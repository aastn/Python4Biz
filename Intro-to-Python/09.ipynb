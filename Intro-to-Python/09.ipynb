{
 "cells": [
  {
   "cell_type": "markdown",
   "metadata": {},
   "source": [
    "# Integer & Linear Programming\n",
    "\n",
    "## An example\n",
    "\n"
   ]
  },
  {
   "cell_type": "markdown",
   "metadata": {},
   "source": [
    "Setting up data: cost matrix, demand, supply"
   ]
  },
  {
   "cell_type": "code",
   "execution_count": 4,
   "metadata": {
    "collapsed": false
   },
   "outputs": [
    {
     "name": "stdout",
     "output_type": "stream",
     "text": [
      "[34.0, 51.0]\n"
     ]
    }
   ],
   "source": [
    "F = range(2) # 2 factories\n",
    "R = range(12) # 12 retailers\n",
    "C = [[1,2,2,1,3,4,5,7,5,2,3,2],\n",
    "    [4,5,5,4,1,3,1,2,1,2,4,6]]\n",
    "demand = [9,4,2,6,4,5,7,8,3,6,9,5]\n",
    "print('Total demand =',sum(demand))\n",
    "supply = [ 34, 45]"
   ]
  },
  {
   "cell_type": "markdown",
   "metadata": {},
   "source": [
    "Now we can define a linear program"
   ]
  },
  {
   "cell_type": "code",
   "execution_count": 11,
   "metadata": {
    "collapsed": false
   },
   "outputs": [
    {
     "name": "stdout",
     "output_type": "stream",
     "text": [
      "The minimum cost is 122.0\n",
      "9.0 from F0 to R00\n",
      "4.0 from F0 to R01\n",
      "2.0 from F0 to R02\n",
      "6.0 from F0 to R03\n",
      "4.0 from F1 to R04\n",
      "5.0 from F1 to R05\n",
      "7.0 from F1 to R06\n",
      "8.0 from F1 to R07\n",
      "3.0 from F1 to R08\n",
      "6.0 from F1 to R09\n",
      "8.0 from F0 to R10\n",
      "1.0 from F1 to R10\n",
      "5.0 from F0 to R11\n"
     ]
    }
   ],
   "source": [
    "from mymip.mycplex import Model\n",
    "\n",
    "lp = Model()\n",
    "x = [ [lp.variable('x%dto%d'%(i,j)) for j in R] for i in F ]\n",
    "lp.min(sum( C[i][j] * x[i][j] for i in F for j in R))\n",
    "lp.SubjectTo(sum(x[f][r] for r in R) <= supply[f] for f in F)\n",
    "lp.SubjectTo(sum(x[f][r] for f in F) == demand[r] for r in R)\n",
    "for f in F: \n",
    "    for r in R: x[f][r] >= 0\n",
    "lp.optimise()\n",
    "print(\"The minimum cost is\",lp.objective())\n",
    "for r in R:\n",
    "    for f in F:\n",
    "        if x[f][r].x > 0: # amount is not zero\n",
    "            print(\"%.1f from F%d to R%02d\"%(x[f][r].x,f,r))"
   ]
  },
  {
   "cell_type": "code",
   "execution_count": null,
   "metadata": {
    "collapsed": true
   },
   "outputs": [],
   "source": []
  }
 ],
 "metadata": {
  "kernelspec": {
   "display_name": "Python 3",
   "language": "python",
   "name": "python3"
  },
  "language_info": {
   "codemirror_mode": {
    "name": "ipython",
    "version": 3
   },
   "file_extension": ".py",
   "mimetype": "text/x-python",
   "name": "python",
   "nbconvert_exporter": "python",
   "pygments_lexer": "ipython3",
   "version": "3.5.1"
  }
 },
 "nbformat": 4,
 "nbformat_minor": 0
}
